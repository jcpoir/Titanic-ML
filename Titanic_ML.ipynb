{
  "nbformat": 4,
  "nbformat_minor": 0,
  "metadata": {
    "colab": {
      "name": "Titanic-ML.ipynb",
      "provenance": []
    },
    "kernelspec": {
      "name": "python3",
      "display_name": "Python 3"
    },
    "language_info": {
      "name": "python"
    }
  },
  "cells": [
    {
      "cell_type": "markdown",
      "source": [
        "### Titanic Survival Prediction Algorithms"
      ],
      "metadata": {
        "id": "JE7W2x6mOeBj"
      }
    },
    {
      "cell_type": "code",
      "execution_count": null,
      "metadata": {
        "id": "CEWJ9eUq0dQU"
      },
      "outputs": [],
      "source": [
        "import pandas as pd\n",
        "import numpy as np\n",
        "import tensorflow as tf\n",
        "import torch"
      ]
    },
    {
      "cell_type": "code",
      "source": [
        "# unload data\n",
        "\n",
        "ytest = pd.read_csv(\"gender_submission.csv\")\n",
        "Xtest = pd.read_csv(\"test.csv\")\n",
        "\n",
        "train_data = pd.read_csv(\"train.csv\")\n",
        "Xtrain = train_data.drop([\"Survived\"], axis = 1)\n",
        "ytrain = train_data[[\"Survived\"]]"
      ],
      "metadata": {
        "id": "BNmKz4dm0vMQ"
      },
      "execution_count": null,
      "outputs": []
    },
    {
      "cell_type": "code",
      "source": [
        "# Logistic Regression Preprocessing\n",
        "\n",
        "for X in [Xtrain, Xtest]:\n",
        "\n",
        "  X.drop([\"Name\", \"Ticket\", \"Cabin\", \"PassengerId\"], axis = 1, inplace = True)\n",
        "\n",
        "  # replace missing float values with mean\n",
        "  X[\"Age\"], X[\"Fare\"] = [X[col].fillna(np.mean(X[col])) for col in [\"Age\", \"Fare\"]]\n",
        "\n",
        "  # replace missing ordinal values with median\n",
        "\n",
        "  # replace missing binary values with mode\n",
        "\n",
        "  X[\"Sex\"] = np.where(X[\"Sex\"] == \"male\", 1, 0)\n",
        "  X[\"Embarked\"] = np.where(X[\"Embarked\"] == \"S\", 1, 0)\n",
        "\n",
        "ytest = ytest.drop(\"PassengerId\", axis = 1)"
      ],
      "metadata": {
        "id": "XawqsZnH6yzL"
      },
      "execution_count": null,
      "outputs": []
    },
    {
      "cell_type": "code",
      "source": [
        "ytest"
      ],
      "metadata": {
        "colab": {
          "base_uri": "https://localhost:8080/",
          "height": 419
        },
        "id": "18G1SMCgb7w3",
        "outputId": "2a772753-6ffc-437c-cafd-dc326b3720a9"
      },
      "execution_count": null,
      "outputs": [
        {
          "output_type": "execute_result",
          "data": {
            "text/html": [
              "\n",
              "  <div id=\"df-af125d87-6861-4ce3-ae96-a0a5d698a27f\">\n",
              "    <div class=\"colab-df-container\">\n",
              "      <div>\n",
              "<style scoped>\n",
              "    .dataframe tbody tr th:only-of-type {\n",
              "        vertical-align: middle;\n",
              "    }\n",
              "\n",
              "    .dataframe tbody tr th {\n",
              "        vertical-align: top;\n",
              "    }\n",
              "\n",
              "    .dataframe thead th {\n",
              "        text-align: right;\n",
              "    }\n",
              "</style>\n",
              "<table border=\"1\" class=\"dataframe\">\n",
              "  <thead>\n",
              "    <tr style=\"text-align: right;\">\n",
              "      <th></th>\n",
              "      <th>Survived</th>\n",
              "    </tr>\n",
              "  </thead>\n",
              "  <tbody>\n",
              "    <tr>\n",
              "      <th>0</th>\n",
              "      <td>0</td>\n",
              "    </tr>\n",
              "    <tr>\n",
              "      <th>1</th>\n",
              "      <td>1</td>\n",
              "    </tr>\n",
              "    <tr>\n",
              "      <th>2</th>\n",
              "      <td>0</td>\n",
              "    </tr>\n",
              "    <tr>\n",
              "      <th>3</th>\n",
              "      <td>0</td>\n",
              "    </tr>\n",
              "    <tr>\n",
              "      <th>4</th>\n",
              "      <td>1</td>\n",
              "    </tr>\n",
              "    <tr>\n",
              "      <th>...</th>\n",
              "      <td>...</td>\n",
              "    </tr>\n",
              "    <tr>\n",
              "      <th>413</th>\n",
              "      <td>0</td>\n",
              "    </tr>\n",
              "    <tr>\n",
              "      <th>414</th>\n",
              "      <td>1</td>\n",
              "    </tr>\n",
              "    <tr>\n",
              "      <th>415</th>\n",
              "      <td>0</td>\n",
              "    </tr>\n",
              "    <tr>\n",
              "      <th>416</th>\n",
              "      <td>0</td>\n",
              "    </tr>\n",
              "    <tr>\n",
              "      <th>417</th>\n",
              "      <td>0</td>\n",
              "    </tr>\n",
              "  </tbody>\n",
              "</table>\n",
              "<p>418 rows × 1 columns</p>\n",
              "</div>\n",
              "      <button class=\"colab-df-convert\" onclick=\"convertToInteractive('df-af125d87-6861-4ce3-ae96-a0a5d698a27f')\"\n",
              "              title=\"Convert this dataframe to an interactive table.\"\n",
              "              style=\"display:none;\">\n",
              "        \n",
              "  <svg xmlns=\"http://www.w3.org/2000/svg\" height=\"24px\"viewBox=\"0 0 24 24\"\n",
              "       width=\"24px\">\n",
              "    <path d=\"M0 0h24v24H0V0z\" fill=\"none\"/>\n",
              "    <path d=\"M18.56 5.44l.94 2.06.94-2.06 2.06-.94-2.06-.94-.94-2.06-.94 2.06-2.06.94zm-11 1L8.5 8.5l.94-2.06 2.06-.94-2.06-.94L8.5 2.5l-.94 2.06-2.06.94zm10 10l.94 2.06.94-2.06 2.06-.94-2.06-.94-.94-2.06-.94 2.06-2.06.94z\"/><path d=\"M17.41 7.96l-1.37-1.37c-.4-.4-.92-.59-1.43-.59-.52 0-1.04.2-1.43.59L10.3 9.45l-7.72 7.72c-.78.78-.78 2.05 0 2.83L4 21.41c.39.39.9.59 1.41.59.51 0 1.02-.2 1.41-.59l7.78-7.78 2.81-2.81c.8-.78.8-2.07 0-2.86zM5.41 20L4 18.59l7.72-7.72 1.47 1.35L5.41 20z\"/>\n",
              "  </svg>\n",
              "      </button>\n",
              "      \n",
              "  <style>\n",
              "    .colab-df-container {\n",
              "      display:flex;\n",
              "      flex-wrap:wrap;\n",
              "      gap: 12px;\n",
              "    }\n",
              "\n",
              "    .colab-df-convert {\n",
              "      background-color: #E8F0FE;\n",
              "      border: none;\n",
              "      border-radius: 50%;\n",
              "      cursor: pointer;\n",
              "      display: none;\n",
              "      fill: #1967D2;\n",
              "      height: 32px;\n",
              "      padding: 0 0 0 0;\n",
              "      width: 32px;\n",
              "    }\n",
              "\n",
              "    .colab-df-convert:hover {\n",
              "      background-color: #E2EBFA;\n",
              "      box-shadow: 0px 1px 2px rgba(60, 64, 67, 0.3), 0px 1px 3px 1px rgba(60, 64, 67, 0.15);\n",
              "      fill: #174EA6;\n",
              "    }\n",
              "\n",
              "    [theme=dark] .colab-df-convert {\n",
              "      background-color: #3B4455;\n",
              "      fill: #D2E3FC;\n",
              "    }\n",
              "\n",
              "    [theme=dark] .colab-df-convert:hover {\n",
              "      background-color: #434B5C;\n",
              "      box-shadow: 0px 1px 3px 1px rgba(0, 0, 0, 0.15);\n",
              "      filter: drop-shadow(0px 1px 2px rgba(0, 0, 0, 0.3));\n",
              "      fill: #FFFFFF;\n",
              "    }\n",
              "  </style>\n",
              "\n",
              "      <script>\n",
              "        const buttonEl =\n",
              "          document.querySelector('#df-af125d87-6861-4ce3-ae96-a0a5d698a27f button.colab-df-convert');\n",
              "        buttonEl.style.display =\n",
              "          google.colab.kernel.accessAllowed ? 'block' : 'none';\n",
              "\n",
              "        async function convertToInteractive(key) {\n",
              "          const element = document.querySelector('#df-af125d87-6861-4ce3-ae96-a0a5d698a27f');\n",
              "          const dataTable =\n",
              "            await google.colab.kernel.invokeFunction('convertToInteractive',\n",
              "                                                     [key], {});\n",
              "          if (!dataTable) return;\n",
              "\n",
              "          const docLinkHtml = 'Like what you see? Visit the ' +\n",
              "            '<a target=\"_blank\" href=https://colab.research.google.com/notebooks/data_table.ipynb>data table notebook</a>'\n",
              "            + ' to learn more about interactive tables.';\n",
              "          element.innerHTML = '';\n",
              "          dataTable['output_type'] = 'display_data';\n",
              "          await google.colab.output.renderOutput(dataTable, element);\n",
              "          const docLink = document.createElement('div');\n",
              "          docLink.innerHTML = docLinkHtml;\n",
              "          element.appendChild(docLink);\n",
              "        }\n",
              "      </script>\n",
              "    </div>\n",
              "  </div>\n",
              "  "
            ],
            "text/plain": [
              "     Survived\n",
              "0           0\n",
              "1           1\n",
              "2           0\n",
              "3           0\n",
              "4           1\n",
              "..        ...\n",
              "413         0\n",
              "414         1\n",
              "415         0\n",
              "416         0\n",
              "417         0\n",
              "\n",
              "[418 rows x 1 columns]"
            ]
          },
          "metadata": {},
          "execution_count": 83
        }
      ]
    },
    {
      "cell_type": "code",
      "source": [
        "# Convert dfs to float tensors\n",
        "\n",
        "Xtrain, ytrain, Xtest, ytest = [torch.tensor(df.astype(\"float\").values) for df in [Xtrain, ytrain, Xtest, ytest]]"
      ],
      "metadata": {
        "id": "dyzIXB9MC-Wr"
      },
      "execution_count": null,
      "outputs": []
    },
    {
      "cell_type": "code",
      "source": [
        "# define logistic regression model\n",
        "\n",
        "class LogisticRegression(torch.nn.Module):\n",
        "\n",
        "  def __init__(self, input_dim, output_dim, alpha = 0.01, momentum = 0.9):\n",
        "    super(LogisticRegression, self).__init__()\n",
        "    self.linear = torch.nn.Linear(input_dim, output_dim)\n",
        "    self.optim = torch.optim.SGD(self.linear.parameters(), lr = alpha, momentum = 0.9)\n",
        "    self.lossFun = torch.nn.MSELoss()\n",
        "    self.double()\n",
        "    self.losses = []\n",
        "  \n",
        "  # return is simply the sigmoid of a linear model\n",
        "  def __call__(self, X):\n",
        "    return torch.round(self.forward(X))\n",
        "\n",
        "  def forward(self, X):\n",
        "    X = self.linear(X)\n",
        "    X = torch.sigmoid(X)\n",
        "    return X\n",
        "\n",
        "  def train(self, X_train, y_train, n_epochs = 1000, verbose = True):\n",
        "    \n",
        "    for epoch in range(n_epochs):\n",
        "\n",
        "      # zero gradients\n",
        "      self.optim.zero_grad()\n",
        "\n",
        "      # make predictions\n",
        "      y_pred = self.forward(X_train)\n",
        "\n",
        "      # calculate loss\n",
        "      loss = self.lossFun(y_pred, y_train)\n",
        "      self.losses.append(loss)\n",
        "\n",
        "      # find gradients\n",
        "      loss.backward()\n",
        "\n",
        "      # change weights\n",
        "      self.optim.step()\n",
        "\n",
        "      if epoch % 1000 == 0 and verbose:\n",
        "        print(loss)\n",
        "\n",
        "  def test(self, X, y):\n",
        "\n",
        "      # make predictions\n",
        "      y_pred = model(X)\n",
        "\n",
        "      # find loss\n",
        "      accuracy = 1 - torch.sum(torch.abs(torch.round(y_pred) - torch.round(y))) / len(y)\n",
        "\n",
        "      return accuracy\n",
        "\n",
        "  def getLosses(self):\n",
        "      return self.losses"
      ],
      "metadata": {
        "id": "H8aYg7_K08vv"
      },
      "execution_count": null,
      "outputs": []
    },
    {
      "cell_type": "code",
      "source": [
        "# Create model and test\n",
        "\n",
        "model = LogisticRegression(Xtrain.shape[1], 1)\n",
        "model.train(Xtrain, ytrain, n_epochs = 20000, verbose = False)\n",
        "\n",
        "train_acc = model.test(Xtrain, ytrain)\n",
        "test_acc = model.test(Xtest, ytest)\n",
        "\n",
        "print(f\"\"\"Train Accuracy: \\033[1m{train_acc}\\033[0m\\n\n",
        "Test Accuracy: \\033[1m{test_acc}\\033[0m\"\"\")"
      ],
      "metadata": {
        "colab": {
          "base_uri": "https://localhost:8080/"
        },
        "id": "AV_SDHXKXEB0",
        "outputId": "a01f2bc1-0147-4fbd-810a-c10884384170"
      },
      "execution_count": null,
      "outputs": [
        {
          "output_type": "stream",
          "name": "stdout",
          "text": [
            "Train Accuracy: \u001b[1m0.8069584736251403\u001b[0m\n",
            "\n",
            "Test Accuracy: \u001b[1m0.9401913875598086\u001b[0m\n"
          ]
        }
      ]
    },
    {
      "cell_type": "code",
      "source": [
        "import matplotlib.pyplot as plt\n",
        "\n",
        "plt.figure()\n",
        "plt.title(\"Training Loss\")\n",
        "plt.xlabel(\"Epochs\")\n",
        "plt.ylabel(\"Training Accuracy\")\n",
        "plt.plot(model.getLosses())"
      ],
      "metadata": {
        "colab": {
          "base_uri": "https://localhost:8080/",
          "height": 312
        },
        "id": "F5E2iPKmXTq3",
        "outputId": "de05d277-7ec6-40d5-f4e8-dd9799901c7b"
      },
      "execution_count": null,
      "outputs": [
        {
          "output_type": "execute_result",
          "data": {
            "text/plain": [
              "[<matplotlib.lines.Line2D at 0x7f788d4d9c90>]"
            ]
          },
          "metadata": {},
          "execution_count": 94
        },
        {
          "output_type": "display_data",
          "data": {
            "image/png": "[encoded data removed]",
            "text/plain": [
              "<Figure size 432x288 with 1 Axes>"
            ]
          },
          "metadata": {
            "needs_background": "light"
          }
        }
      ]
    }
  ]
}